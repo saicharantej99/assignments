{
 "cells": [
  {
   "cell_type": "markdown",
   "metadata": {},
   "source": [
    "## Strings Assignment Solutions"
   ]
  },
  {
   "cell_type": "code",
   "execution_count": 3,
   "metadata": {},
   "outputs": [
    {
     "name": "stdout",
     "output_type": "stream",
     "text": [
      "<map object at 0x0000000004349908>\n"
     ]
    }
   ],
   "source": [
    "C = (1,2,3)\n",
    "D = map(lambda x:x+10, C)\n",
    "print (D)"
   ]
  },
  {
   "cell_type": "markdown",
   "metadata": {},
   "source": [
    "#### 1. I want to print the below string as it is. How do I do that?\n",
    "“Apples are better than \\n Oranges”"
   ]
  },
  {
   "cell_type": "code",
   "execution_count": 12,
   "metadata": {
    "collapsed": true
   },
   "outputs": [],
   "source": [
    "a=\"Apples are better than \\n Oranges\"\n"
   ]
  },
  {
   "cell_type": "code",
   "execution_count": 13,
   "metadata": {},
   "outputs": [
    {
     "name": "stdout",
     "output_type": "stream",
     "text": [
      "'Apples are better than \\n Oranges'\n"
     ]
    }
   ],
   "source": [
    "print(repr(a))"
   ]
  },
  {
   "cell_type": "markdown",
   "metadata": {},
   "source": [
    "#### 2. string_ex = “I love python because it is so easy to use it and also it is used by many other IT companies”\n",
    "I want you to split the above string on the separator “it”. How will you do it?"
   ]
  },
  {
   "cell_type": "code",
   "execution_count": 16,
   "metadata": {
    "collapsed": true
   },
   "outputs": [],
   "source": [
    "string_ex = \"I love python because it is so easy to use it and also it is used by many other IT companies\""
   ]
  },
  {
   "cell_type": "code",
   "execution_count": 17,
   "metadata": {},
   "outputs": [
    {
     "data": {
      "text/plain": [
       "['I love python because ',\n",
       " ' is so easy to use ',\n",
       " ' and also ',\n",
       " ' is used by many other IT companies']"
      ]
     },
     "execution_count": 17,
     "metadata": {},
     "output_type": "execute_result"
    }
   ],
   "source": [
    "string_ex.split(\"it\")"
   ]
  },
  {
   "cell_type": "markdown",
   "metadata": {},
   "source": [
    "#### 3.str_ex = “I Love Pyton” How do you swap the cases of letters in the above input string?"
   ]
  },
  {
   "cell_type": "code",
   "execution_count": 19,
   "metadata": {},
   "outputs": [
    {
     "name": "stdout",
     "output_type": "stream",
     "text": [
      "i lOVE pYTON\n"
     ]
    }
   ],
   "source": [
    "str_ex = \"I Love Pyton\"\n",
    "print(str_ex.swapcase())"
   ]
  },
  {
   "cell_type": "markdown",
   "metadata": {},
   "source": [
    "#### 4. str_input = “Hey how are you doing. I am doing great”\n",
    "Get the first 10 characters and the last 10 characters of the above the string and join them\n",
    "with a “_” "
   ]
  },
  {
   "cell_type": "code",
   "execution_count": 21,
   "metadata": {
    "collapsed": true
   },
   "outputs": [],
   "source": [
    "str_input=\"Hey how are you doing. I am doing great\""
   ]
  },
  {
   "cell_type": "code",
   "execution_count": 23,
   "metadata": {},
   "outputs": [
    {
     "name": "stdout",
     "output_type": "stream",
     "text": [
      "Hey how ar_e you doing. I am doing great\n"
     ]
    }
   ],
   "source": [
    "print(str_input[:10]+\"_\"+str_input[10:])"
   ]
  },
  {
   "cell_type": "markdown",
   "metadata": {},
   "source": [
    "#### 5. string1 = “Hotelspace” string2=”Facilities”\n",
    "I want you to swap the first three letters and last three letters of both the strings and print\n",
    "the output by separating them with a “@”"
   ]
  },
  {
   "cell_type": "code",
   "execution_count": 41,
   "metadata": {},
   "outputs": [
    {
     "data": {
      "text/plain": [
       "'aceelspHot@iesilitFac'"
      ]
     },
     "execution_count": 41,
     "metadata": {},
     "output_type": "execute_result"
    }
   ],
   "source": [
    "string1=\"Hotelspace\"\n",
    "string2=\"Facilities\"\n",
    "m=string1[-3:]+string1[3:-3]+string1[:3]\n",
    "n=string2[-3:]+string2[3:-3]+string2[:3]\n",
    "m+\"@\"+n"
   ]
  },
  {
   "cell_type": "markdown",
   "metadata": {},
   "source": [
    "#### 6. strr = 'Hello World'    How do you extract the string ‘Worl’ from the above string using negative index?"
   ]
  },
  {
   "cell_type": "code",
   "execution_count": 44,
   "metadata": {},
   "outputs": [
    {
     "data": {
      "text/plain": [
       "'Worl'"
      ]
     },
     "execution_count": 44,
     "metadata": {},
     "output_type": "execute_result"
    }
   ],
   "source": [
    "strr='Hello World'\n",
    "strr[-5:-1]"
   ]
  },
  {
   "cell_type": "markdown",
   "metadata": {},
   "source": [
    "#### 7. Reverse the string “5+6 * 3-45”. The output should be “45-3 * 6+5”. "
   ]
  },
  {
   "cell_type": "code",
   "execution_count": 53,
   "metadata": {},
   "outputs": [
    {
     "name": "stdout",
     "output_type": "stream",
     "text": [
      "54-3*6+5\n"
     ]
    }
   ],
   "source": [
    "string1=\"5+6*3-45\"\n",
    "print(string1[::-1])"
   ]
  },
  {
   "cell_type": "markdown",
   "metadata": {},
   "source": [
    "#### 8. \n",
    "#### str_s = “India is a great country with a lot of heritage”\n",
    "#### str_x = “South Africa is a great country with a lot of freedom”\n",
    "I want you to remove the common words appearing in the above strings and display the left-\n",
    "over words as one single string."
   ]
  },
  {
   "cell_type": "code",
   "execution_count": 126,
   "metadata": {},
   "outputs": [
    {
     "data": {
      "text/plain": [
       "['a', 'great', 'country', 'is', 'lot', 'of', 'with']"
      ]
     },
     "execution_count": 126,
     "metadata": {},
     "output_type": "execute_result"
    }
   ],
   "source": [
    "str_s=\"India is a great country with a lot of heritage\"\n",
    "str_x=\"South Africa is a great country with a lot of freedom\"\n",
    "s=str_s.split()\n",
    "x=str_x.split()\n",
    "joined=[]\n",
    "left_over=list(set(s).intersection( set(x) ))\n",
    "left_over"
   ]
  },
  {
   "cell_type": "code",
   "execution_count": 141,
   "metadata": {},
   "outputs": [
    {
     "data": {
      "text/plain": [
       "'India heritage South Africa freedom'"
      ]
     },
     "execution_count": 141,
     "metadata": {},
     "output_type": "execute_result"
    }
   ],
   "source": [
    "for word in left_over:\n",
    "    if word in s:\n",
    "        s.remove(word)\n",
    "    if word in x:\n",
    "        x.remove(word)\n",
    "' '.join(s+x)"
   ]
  },
  {
   "cell_type": "markdown",
   "metadata": {},
   "source": [
    "#### 9. variable1=”This is a test to check the unique characters in the string”\n",
    "I want you to identify all the unique characters in the above string and also mention the\n",
    "number of times these unique characters are repeated in the above string."
   ]
  },
  {
   "cell_type": "code",
   "execution_count": 2,
   "metadata": {
    "collapsed": true
   },
   "outputs": [],
   "source": [
    "from collections import Counter"
   ]
  },
  {
   "cell_type": "code",
   "execution_count": 4,
   "metadata": {},
   "outputs": [
    {
     "data": {
      "text/plain": [
       "Counter({' ': 11,\n",
       "         'a': 3,\n",
       "         'c': 4,\n",
       "         'e': 6,\n",
       "         'g': 1,\n",
       "         'h': 5,\n",
       "         'i': 5,\n",
       "         'k': 1,\n",
       "         'n': 3,\n",
       "         'o': 1,\n",
       "         'q': 1,\n",
       "         'r': 3,\n",
       "         's': 5,\n",
       "         't': 8,\n",
       "         'u': 2})"
      ]
     },
     "execution_count": 4,
     "metadata": {},
     "output_type": "execute_result"
    }
   ],
   "source": [
    "variable1=\"This is a test to check the unique characters in the string\"\n",
    "Counter(variable1.lower())"
   ]
  },
  {
   "cell_type": "markdown",
   "metadata": {},
   "source": [
    "#### 10. var3 = “abcdefgh”\n",
    "I want you to transform the above string to “a2c4e8g10”"
   ]
  },
  {
   "cell_type": "code",
   "execution_count": 12,
   "metadata": {},
   "outputs": [
    {
     "data": {
      "text/plain": [
       "'a2c4e8g10'"
      ]
     },
     "execution_count": 12,
     "metadata": {},
     "output_type": "execute_result"
    }
   ],
   "source": [
    "var3=\"abcdefgh\"\n",
    "list1=list(var3)\n",
    "list1[1]=str(2)\n",
    "list1[3]=str(4)\n",
    "list1[5]=str(8)\n",
    "list1[7]=str(10)\n",
    "''.join(list1)"
   ]
  },
  {
   "cell_type": "code",
   "execution_count": null,
   "metadata": {
    "collapsed": true
   },
   "outputs": [],
   "source": []
  }
 ],
 "metadata": {
  "anaconda-cloud": {},
  "kernelspec": {
   "display_name": "Python 3",
   "language": "python",
   "name": "python3"
  },
  "language_info": {
   "codemirror_mode": {
    "name": "ipython",
    "version": 3
   },
   "file_extension": ".py",
   "mimetype": "text/x-python",
   "name": "python",
   "nbconvert_exporter": "python",
   "pygments_lexer": "ipython3",
   "version": "3.6.5"
  }
 },
 "nbformat": 4,
 "nbformat_minor": 2
}
